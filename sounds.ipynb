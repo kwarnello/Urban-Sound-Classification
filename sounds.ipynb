{
 "cells": [
  {
   "cell_type": "code",
   "execution_count": 1,
   "metadata": {},
   "outputs": [],
   "source": [
    "import pandas as pd\n",
    "import numpy as np\n",
    "import matplotlib.pyplot as plt\n",
    "import librosa    \n",
    "import os"
   ]
  },
  {
   "cell_type": "code",
   "execution_count": 121,
   "metadata": {},
   "outputs": [],
   "source": [
    "###### Open train and test file\n",
    "# If first time\n",
    "#train = pd.read_csv(\"train.csv\")\n",
    "#test = pd.read_csv(\"test.csv\")\n",
    "\n",
    "# If data ready\n",
    "train = pd.read_csv(\"train_data_fft.csv\")\n",
    "test = pd.read_csv(\"test_data_fft.csv\")"
   ]
  },
  {
   "cell_type": "code",
   "execution_count": 111,
   "metadata": {},
   "outputs": [
    {
     "data": {
      "text/html": [
       "<div>\n",
       "<style scoped>\n",
       "    .dataframe tbody tr th:only-of-type {\n",
       "        vertical-align: middle;\n",
       "    }\n",
       "\n",
       "    .dataframe tbody tr th {\n",
       "        vertical-align: top;\n",
       "    }\n",
       "\n",
       "    .dataframe thead th {\n",
       "        text-align: right;\n",
       "    }\n",
       "</style>\n",
       "<table border=\"1\" class=\"dataframe\">\n",
       "  <thead>\n",
       "    <tr style=\"text-align: right;\">\n",
       "      <th></th>\n",
       "      <th>ID</th>\n",
       "      <th>Class</th>\n",
       "    </tr>\n",
       "  </thead>\n",
       "  <tbody>\n",
       "    <tr>\n",
       "      <th>0</th>\n",
       "      <td>0</td>\n",
       "      <td>siren</td>\n",
       "    </tr>\n",
       "    <tr>\n",
       "      <th>1</th>\n",
       "      <td>1</td>\n",
       "      <td>street_music</td>\n",
       "    </tr>\n",
       "    <tr>\n",
       "      <th>2</th>\n",
       "      <td>2</td>\n",
       "      <td>drilling</td>\n",
       "    </tr>\n",
       "    <tr>\n",
       "      <th>3</th>\n",
       "      <td>3</td>\n",
       "      <td>siren</td>\n",
       "    </tr>\n",
       "    <tr>\n",
       "      <th>4</th>\n",
       "      <td>4</td>\n",
       "      <td>dog_bark</td>\n",
       "    </tr>\n",
       "  </tbody>\n",
       "</table>\n",
       "</div>"
      ],
      "text/plain": [
       "   ID         Class\n",
       "0   0         siren\n",
       "1   1  street_music\n",
       "2   2      drilling\n",
       "3   3         siren\n",
       "4   4      dog_bark"
      ]
     },
     "execution_count": 111,
     "metadata": {},
     "output_type": "execute_result"
    }
   ],
   "source": [
    "train.head()"
   ]
  },
  {
   "cell_type": "code",
   "execution_count": 4,
   "metadata": {},
   "outputs": [
    {
     "data": {
      "text/plain": [
       "array(['siren', 'street_music', 'drilling', 'dog_bark',\n",
       "       'children_playing', 'gun_shot', 'engine_idling', 'air_conditioner',\n",
       "       'jackhammer', 'car_horn'], dtype=object)"
      ]
     },
     "execution_count": 4,
     "metadata": {},
     "output_type": "execute_result"
    }
   ],
   "source": [
    "train[\"Class\"].unique()"
   ]
  },
  {
   "cell_type": "code",
   "execution_count": 5,
   "metadata": {},
   "outputs": [],
   "source": [
    "bitrate = 16384\n",
    "columns = []\n",
    "\n",
    "for x in range(bitrate//2):\n",
    "    columns.append(x)"
   ]
  },
  {
   "cell_type": "code",
   "execution_count": 11,
   "metadata": {
    "scrolled": true
   },
   "outputs": [
    {
     "name": "stdout",
     "output_type": "stream",
     "text": [
      "1.8399264029438822 %\n",
      "3.6798528058877644 %\n",
      "5.519779208831647 %\n",
      "7.359705611775529 %\n",
      "9.19963201471941 %\n",
      "11.039558417663294 %\n",
      "12.879484820607177 %\n",
      "14.719411223551058 %\n",
      "16.55933762649494 %\n",
      "18.39926402943882 %\n",
      "20.239190432382706 %\n",
      "22.079116835326587 %\n",
      "23.91904323827047 %\n",
      "25.758969641214353 %\n",
      "27.598896044158234 %\n",
      "29.438822447102115 %\n",
      "31.278748850046 %\n",
      "33.11867525298988 %\n",
      "34.95860165593376 %\n",
      "36.79852805887764 %\n",
      "38.638454461821524 %\n",
      "40.47838086476541 %\n",
      "42.318307267709294 %\n",
      "44.158233670653175 %\n",
      "45.998160073597056 %\n",
      "47.83808647654094 %\n",
      "49.678012879484825 %\n",
      "51.517939282428706 %\n",
      "53.35786568537259 %\n",
      "55.19779208831647 %\n",
      "57.03771849126035 %\n",
      "58.87764489420423 %\n",
      "60.71757129714811 %\n",
      "62.557497700092 %\n",
      "64.39742410303589 %\n",
      "66.23735050597976 %\n",
      "68.07727690892365 %\n",
      "69.91720331186752 %\n",
      "71.75712971481141 %\n",
      "73.59705611775529 %\n",
      "75.43698252069917 %\n",
      "77.27690892364305 %\n",
      "79.11683532658694 %\n",
      "80.95676172953083 %\n",
      "82.7966881324747 %\n",
      "84.63661453541859 %\n",
      "86.47654093836246 %\n",
      "88.31646734130635 %\n",
      "90.15639374425022 %\n",
      "91.99632014719411 %\n",
      "93.83624655013799 %\n",
      "95.67617295308187 %\n",
      "97.51609935602575 %\n",
      "99.35602575896965 %\n"
     ]
    }
   ],
   "source": [
    "os.chdir(\"Train/\")\n",
    "\n",
    "temp = pd.DataFrame(data=None, columns=columns)\n",
    "temp[\"ID\"] = \"\"\n",
    "i = 0\n",
    "for filename in os.listdir():   \n",
    "    i += 1\n",
    "    file, rate = librosa.load(filename, sr=bitrate)\n",
    "    fft = np.fft.fft(file, norm=\"ortho\")\n",
    "    \n",
    "    #### Normalize fft\n",
    "    result = abs(fft[:rate//2])\n",
    "    result = result - result.mean()\n",
    "    result = result / result.max()\n",
    "    \n",
    "    if len(result) < rate//2:\n",
    "        diff = rate//2 - len(result)\n",
    "        result = np.append(result, np.zeros(diff))\n",
    "    \n",
    "    #plt.plot(file)\n",
    "    #plt.show()\n",
    "    #plt.plot(result)\n",
    "    #plt.show()\n",
    "    \n",
    "    name, _ = filename.split(\".\")\n",
    "    a = dict((a, result[a]) for a in columns)\n",
    "    a[\"ID\"] = name\n",
    "    temp.loc[name] = pd.Series(a)\n",
    "    \n",
    "    if i%100==0:\n",
    "        print(i/len(train[\"ID\"])*100,\"%\")\n",
    "    \n",
    "os.chdir(\"..\")\n",
    "temp[\"ID\"] = temp[\"ID\"].astype('int64', inplace=True)\n",
    "train.reset_index(drop=True, inplace=True)\n",
    "temp.reset_index(drop=True, inplace=True)\n",
    "train = pd.concat([train, temp], axis=1, ignore_index=True)\n",
    "train.to_csv(\"train_data_fft.csv\")"
   ]
  },
  {
   "cell_type": "code",
   "execution_count": 134,
   "metadata": {},
   "outputs": [
    {
     "data": {
      "text/plain": [
       "'F:\\\\Programowanie\\\\Sound Classification'"
      ]
     },
     "execution_count": 134,
     "metadata": {},
     "output_type": "execute_result"
    }
   ],
   "source": [
    "os.getcwd()"
   ]
  },
  {
   "cell_type": "code",
   "execution_count": null,
   "metadata": {},
   "outputs": [
    {
     "name": "stdout",
     "output_type": "stream",
     "text": [
      "3.0330603579011224 %\n"
     ]
    }
   ],
   "source": [
    "os.chdir(\"Test/\")\n",
    "temp = pd.DataFrame(data=None, columns=columns)\n",
    "temp[\"ID\"] = \"\"\n",
    "i = 0\n",
    "\n",
    "for filename in os.listdir():   \n",
    "    i += 1\n",
    "    file, rate = librosa.load(filename, sr=bitrate)\n",
    "    fft = np.fft.fft(file, norm=\"ortho\")\n",
    "    \n",
    "    #### Normalize fft\n",
    "    result = abs(fft[:rate//2])\n",
    "    result = result - result.mean()\n",
    "    result = result / result.max()\n",
    "    \n",
    "    if len(result) < rate//2:\n",
    "        diff = rate//2 - len(result)\n",
    "        result = np.append(result, np.zeros(diff))\n",
    "    \n",
    "    #plt.plot(file)\n",
    "    #plt.show()\n",
    "    #plt.plot(result)\n",
    "    #plt.show()\n",
    "    \n",
    "    name, _ = filename.split(\".\")\n",
    "    a = dict((a, result[a]) for a in columns)\n",
    "    a[\"ID\"] = name\n",
    "    temp.loc[name] = pd.Series(a)\n",
    "    \n",
    "    if i%100==0:\n",
    "        print(i/len(test[\"ID\"])*100,\"%\")\n",
    "    \n",
    "os.chdir(\"..\")\n",
    "temp[\"ID\"] = temp[\"ID\"].astype('int64', inplace=True)\n",
    "\n",
    "test.reset_index(drop=True, inplace=True)\n",
    "temp.reset_index(drop=True, inplace=True)\n",
    "test = pd.concat([test, temp], axis=1, ignore_index=True)\n",
    "test.to_csv(\"test_data_fft.csv\")"
   ]
  },
  {
   "cell_type": "code",
   "execution_count": null,
   "metadata": {},
   "outputs": [],
   "source": []
  }
 ],
 "metadata": {
  "kernelspec": {
   "display_name": "Python 3",
   "language": "python",
   "name": "python3"
  }
 },
 "nbformat": 4,
 "nbformat_minor": 2
}
